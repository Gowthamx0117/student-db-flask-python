{
  "cells": [
    {
      "cell_type": "code",
      "execution_count": 3,
      "metadata": {
        "colab": {
          "base_uri": "https://localhost:8080/"
        },
        "id": "OJyrHxcRuYfE",
        "outputId": "cba773bf-e468-4ca1-89da-9b6ae2637d55"
      },
      "outputs": [
        {
          "name": "stdout",
          "output_type": "stream",
          "text": [
            "Department Encoding Map: {'AD': np.int64(0), 'CIVIL': np.int64(1), 'CSE': np.int64(2), 'ECE': np.int64(3), 'EEE': np.int64(4), 'FT': np.int64(5), 'MECH': np.int64(6)}\n",
            "Arrear Encoding Map: {'No': np.int64(0), 'Yes': np.int64(1)}\n",
            "✅ Preprocessing complete. File saved as students_cleaned.csv\n"
          ]
        }
      ],
      "source": [
        "import pandas as pd\n",
        "from sklearn.preprocessing import LabelEncoder\n",
        "\n",
        "# Step 1: Load the dataset\n",
        "df = pd.read_csv(\"students_data.csv\")  # Make sure this CSV is in your working directory\n",
        "\n",
        "# Step 2: Remove duplicates and missing values (if any)\n",
        "df = df.drop_duplicates()\n",
        "df = df.dropna()\n",
        "\n",
        "# Step 3: Ensure proper data types\n",
        "df['regno'] = df['regno'].astype(int)\n",
        "df['cgpa'] = df['cgpa'].astype(float)\n",
        "\n",
        "# Step 4: Encode categorical columns\n",
        "le_dept = LabelEncoder()\n",
        "le_arrear = LabelEncoder()\n",
        "\n",
        "df['dept_encoded'] = le_dept.fit_transform(df['dept'])\n",
        "df['hist_arrear_encoded'] = le_arrear.fit_transform(df['hist_arrear'])\n",
        "\n",
        "# Show the encoding maps (optional)\n",
        "print(\"Department Encoding Map:\", dict(zip(le_dept.classes_, le_dept.transform(le_dept.classes_))))\n",
        "print(\"Arrear Encoding Map:\", dict(zip(le_arrear.classes_, le_arrear.transform(le_arrear.classes_))))\n",
        "\n",
        "# Step 5: Feature Engineering\n",
        "df['placement_eligible'] = (df['cgpa'] > 7.5) & (df['hist_arrear'] == 'No')\n",
        "df['risk_group'] = df['cgpa'].apply(lambda x: 'High' if x < 6 else 'Low')\n",
        "\n",
        "# Step 6: Save the cleaned and enriched dataset\n",
        "df.to_csv(\"students_cleaned.csv\", index=False)\n",
        "\n",
        "print(\"✅ Preprocessing complete. File saved as students_cleaned.csv\")"
      ]
    },
    {
      "cell_type": "code",
      "execution_count": 4,
      "metadata": {
        "colab": {
          "base_uri": "https://localhost:8080/"
        },
        "id": "vMoLU9Di4rVn",
        "outputId": "663a3202-df19-4b8e-bed1-2b1abbcc2132"
      },
      "outputs": [
        {
          "name": "stdout",
          "output_type": "stream",
          "text": [
            "✅ Database created and data inserted.\n"
          ]
        }
      ],
      "source": [
        "import sqlite3\n",
        "import pandas as pd\n",
        "\n",
        "# Load cleaned data\n",
        "df = pd.read_csv(\"students_cleaned.csv\")\n",
        "\n",
        "# Connect to SQLite database (or create it)\n",
        "conn = sqlite3.connect(\"student_data.db\")\n",
        "cursor = conn.cursor()\n",
        "\n",
        "# Create table\n",
        "cursor.execute('''\n",
        "CREATE TABLE IF NOT EXISTS students (\n",
        "    regno INTEGER PRIMARY KEY,\n",
        "    name TEXT,\n",
        "    dept TEXT,\n",
        "    cgpa REAL,\n",
        "    hist_arrear TEXT,\n",
        "    dept_encoded INTEGER,\n",
        "    hist_arrear_encoded INTEGER,\n",
        "    placement_eligible BOOLEAN,\n",
        "    risk_group TEXT\n",
        ")\n",
        "''')\n",
        "\n",
        "# Insert data into the table\n",
        "df.to_sql('students', conn, if_exists='replace', index=False)\n",
        "\n",
        "conn.commit()\n",
        "conn.close()\n",
        "\n",
        "print(\"✅ Database created and data inserted.\")\n"
      ]
    },
    {
      "cell_type": "code",
      "execution_count": 5,
      "metadata": {
        "colab": {
          "base_uri": "https://localhost:8080/"
        },
        "id": "oY1uAEiv4vsA",
        "outputId": "36a022c3-4afd-4e5c-9f05-e8fa37f08199"
      },
      "outputs": [
        {
          "name": "stdout",
          "output_type": "stream",
          "text": [
            "Requirement already satisfied: flask in c:\\users\\hp\\onedrive\\desktop\\project\\.venv\\lib\\site-packages (3.1.1)\n",
            "Requirement already satisfied: blinker>=1.9.0 in c:\\users\\hp\\onedrive\\desktop\\project\\.venv\\lib\\site-packages (from flask) (1.9.0)\n",
            "Requirement already satisfied: click>=8.1.3 in c:\\users\\hp\\onedrive\\desktop\\project\\.venv\\lib\\site-packages (from flask) (8.2.1)\n",
            "Requirement already satisfied: itsdangerous>=2.2.0 in c:\\users\\hp\\onedrive\\desktop\\project\\.venv\\lib\\site-packages (from flask) (2.2.0)\n",
            "Requirement already satisfied: jinja2>=3.1.2 in c:\\users\\hp\\onedrive\\desktop\\project\\.venv\\lib\\site-packages (from flask) (3.1.6)\n",
            "Requirement already satisfied: markupsafe>=2.1.1 in c:\\users\\hp\\onedrive\\desktop\\project\\.venv\\lib\\site-packages (from flask) (3.0.2)\n",
            "Requirement already satisfied: werkzeug>=3.1.0 in c:\\users\\hp\\onedrive\\desktop\\project\\.venv\\lib\\site-packages (from flask) (3.1.3)\n",
            "Requirement already satisfied: colorama in c:\\users\\hp\\onedrive\\desktop\\project\\.venv\\lib\\site-packages (from click>=8.1.3->flask) (0.4.6)\n",
            "Note: you may need to restart the kernel to use updated packages.\n"
          ]
        }
      ],
      "source": [
        "pip install flask"
      ]
    },
    {
      "cell_type": "code",
      "execution_count": 7,
      "metadata": {},
      "outputs": [
        {
          "name": "stdout",
          "output_type": "stream",
          "text": [
            " * Serving Flask app '__main__'\n",
            " * Debug mode: on\n"
          ]
        },
        {
          "name": "stderr",
          "output_type": "stream",
          "text": [
            "WARNING: This is a development server. Do not use it in a production deployment. Use a production WSGI server instead.\n",
            " * Running on http://127.0.0.1:5000\n",
            "Press CTRL+C to quit\n",
            " * Restarting with stat\n"
          ]
        },
        {
          "ename": "SystemExit",
          "evalue": "1",
          "output_type": "error",
          "traceback": [
            "An exception has occurred, use %tb to see the full traceback.\n",
            "\u001b[31mSystemExit\u001b[39m\u001b[31m:\u001b[39m 1\n"
          ]
        }
      ],
      "source": [
        "from flask import Flask, render_template, request\n",
        "import sqlite3\n",
        "import pandas as pd\n",
        "\n",
        "app = Flask(__name__)\n",
        "\n",
        "def get_data():\n",
        "    conn = sqlite3.connect(\"student_data.db\")\n",
        "    df = pd.read_sql(\"SELECT * FROM students\", conn)\n",
        "    conn.close()\n",
        "    return df\n",
        "\n",
        "@app.route(\"/\")\n",
        "def home():\n",
        "    df = get_data()\n",
        "    return render_template(\"index.html\", tables=[df.to_html(classes='data')], titles=df.columns.values)\n",
        "\n",
        "@app.route(\"/eligible\")\n",
        "def eligible():\n",
        "    df = get_data()\n",
        "    eligible_students = df[df['placement_eligible'] == True]\n",
        "    return render_template(\"index.html\", tables=[eligible_students.to_html(classes='data')], titles=eligible_students.columns.values)\n",
        "\n",
        "if __name__ == \"__main__\":\n",
        "    app.run(debug=True)\n"
      ]
    },
    {
      "cell_type": "code",
      "execution_count": 8,
      "metadata": {},
      "outputs": [
        {
          "ename": "SyntaxError",
          "evalue": "invalid decimal literal (3599481828.py, line 7)",
          "output_type": "error",
          "traceback": [
            "  \u001b[36mCell\u001b[39m\u001b[36m \u001b[39m\u001b[32mIn[8]\u001b[39m\u001b[32m, line 7\u001b[39m\n\u001b[31m    \u001b[39m\u001b[31m.data th, .data td { border: 1px solid #ddd; padding: 8px; }\u001b[39m\n                                 ^\n\u001b[31mSyntaxError\u001b[39m\u001b[31m:\u001b[39m invalid decimal literal\n"
          ]
        }
      ],
      "source": [
        "<!DOCTYPE html>\n",
        "<html>\n",
        "<head>\n",
        "    <title>Student Database</title>\n",
        "    <style>\n",
        "        .data { border-collapse: collapse; width: 100%; }\n",
        "        .data th, .data td { border: 1px solid #ddd; padding: 8px; }\n",
        "        .data th { background-color: #f2f2f2; }\n",
        "    </style>\n",
        "</head>\n",
        "<body>\n",
        "    <h2>📊 Student Data</h2>\n",
        "    <a href=\"/\">All Students</a> | <a href=\"/eligible\">Placement Eligible Students</a>\n",
        "    <br><br>\n",
        "    {% for table in tables %}\n",
        "        {{ titles[loop.index0] }}\n",
        "        {{ table|safe }}\n",
        "    {% endfor %}\n",
        "</body>\n",
        "</html>\n"
      ]
    }
  ],
  "metadata": {
    "colab": {
      "provenance": []
    },
    "kernelspec": {
      "display_name": ".venv",
      "language": "python",
      "name": "python3"
    },
    "language_info": {
      "codemirror_mode": {
        "name": "ipython",
        "version": 3
      },
      "file_extension": ".py",
      "mimetype": "text/x-python",
      "name": "python",
      "nbconvert_exporter": "python",
      "pygments_lexer": "ipython3",
      "version": "3.13.5"
    }
  },
  "nbformat": 4,
  "nbformat_minor": 0
}
